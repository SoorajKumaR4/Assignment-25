{
 "cells": [
  {
   "cell_type": "markdown",
   "id": "2a37d82f",
   "metadata": {},
   "source": [
    "1 . What is the difference between enclosing a list comprehension in square brackets and\n",
    "parentheses?\n",
    "\n",
    "A. Enclosing a list comprehension in square brackets returns a list, but whereas enclosing a list comprehension in parentheses returns a generator object."
   ]
  },
  {
   "cell_type": "markdown",
   "id": "37cf8ad1",
   "metadata": {},
   "source": [
    "2) What is the relationship between generators and iterators?\n",
    "\n",
    "A.\n",
    "An iterator is an object which contains a countable number of values and it is used to iterate over iterable objects like list, tuples, sets, etc.\n",
    "\n",
    "Generators are an another way of creating iterators in a simple way where it uses the keyword yield statement instead of return statement in a defined function.Generators are implemented using a function."
   ]
  },
  {
   "cell_type": "markdown",
   "id": "5cc02099",
   "metadata": {},
   "source": [
    "3) What are the signs that a function is a generator function?\n",
    "\n",
    "A generator function uses a yield statement instead of a return statement. A generator function will always return an iterable object called generator, whereas a normal function can return a string/list/tuple/dict/NoneType, etc"
   ]
  },
  {
   "cell_type": "markdown",
   "id": "9f6d82ec",
   "metadata": {},
   "source": [
    "4) What is the purpose of a yield statement?\n",
    "\n",
    "A. The yield statement suspends function’s execution and sends a value back to the caller, but retains enough state to enable function to resume where it is left off. When resumed, the function continues execution immediately after the last yield run. This allows its code to produce a series of values over time, rather than computing them at once and sending them back like a list."
   ]
  },
  {
   "cell_type": "markdown",
   "id": "811a0d03",
   "metadata": {},
   "source": [
    "5) What is the relationship between map calls and list comprehensions? Make a comparison and\n",
    "contrast between the two.\n",
    "\n",
    "A.\n",
    "1.  List comprehension is more concise and easier to read as compared to map.\n",
    "2.  List comprehension allows filtering. In map, we have no such facility.\n",
    "3.  List comprehension are used when a list of results is required as final output.but map only returns a map object. it needs to be explicitly coverted to desired datatype.\n",
    "4.  List comprehension is faster than map when we need to evaluate expressions that are too long or complicated to express.\n",
    "5. Map is faster in case of calling an already defined function on a set of values."
   ]
  },
  {
   "cell_type": "code",
   "execution_count": null,
   "id": "89130f9e",
   "metadata": {},
   "outputs": [],
   "source": []
  }
 ],
 "metadata": {
  "kernelspec": {
   "display_name": "Python 3 (ipykernel)",
   "language": "python",
   "name": "python3"
  },
  "language_info": {
   "codemirror_mode": {
    "name": "ipython",
    "version": 3
   },
   "file_extension": ".py",
   "mimetype": "text/x-python",
   "name": "python",
   "nbconvert_exporter": "python",
   "pygments_lexer": "ipython3",
   "version": "3.9.7"
  }
 },
 "nbformat": 4,
 "nbformat_minor": 5
}
